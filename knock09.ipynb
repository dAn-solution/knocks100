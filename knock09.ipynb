{
  "nbformat": 4,
  "nbformat_minor": 0,
  "metadata": {
    "colab": {
      "name": "knock09.ipynb",
      "provenance": [],
      "collapsed_sections": [],
      "authorship_tag": "ABX9TyMQ20tpsPqjj7JCkcpuMK1I",
      "include_colab_link": true
    },
    "kernelspec": {
      "name": "python3",
      "display_name": "Python 3"
    },
    "accelerator": "GPU"
  },
  "cells": [
    {
      "cell_type": "markdown",
      "metadata": {
        "id": "view-in-github",
        "colab_type": "text"
      },
      "source": [
        "<a href=\"https://colab.research.google.com/github/dAn-solution/knocks100/blob/main/knock09.ipynb\" target=\"_parent\"><img src=\"https://colab.research.google.com/assets/colab-badge.svg\" alt=\"Open In Colab\"/></a>"
      ]
    },
    {
      "cell_type": "code",
      "metadata": {
        "id": "g-YtQNI8FHWU",
        "colab": {
          "base_uri": "https://localhost:8080/"
        },
        "outputId": "250db2f0-df5b-45e8-9774-169c0b0228cb"
      },
      "source": [
        "# マウント実行\n",
        "from google.colab import drive\n",
        "drive.mount('/content/drive') "
      ],
      "execution_count": 1,
      "outputs": [
        {
          "output_type": "stream",
          "text": [
            "Mounted at /content/drive\n"
          ],
          "name": "stdout"
        }
      ]
    },
    {
      "cell_type": "code",
      "metadata": {
        "id": "SDe7_SqZFq6t"
      },
      "source": [
        "#サポートパッチのインポート\n",
        "from google.colab.patches import cv2_imshow\n",
        "\n",
        "import cv2"
      ],
      "execution_count": 2,
      "outputs": []
    },
    {
      "cell_type": "markdown",
      "metadata": {
        "id": "IIQYhykmMZhT"
      },
      "source": [
        "### 081画像データの読み込み"
      ]
    },
    {
      "cell_type": "code",
      "metadata": {
        "id": "27R-0ov_MY7A"
      },
      "source": [
        "#画像のインポート\n",
        "import cv2\n",
        "img = cv2.imread(\"/content/drive/MyDrive/Colab Notebooks/colab/img/img01.jpg\", cv2.IMREAD_UNCHANGED)\n",
        "cv2_imshow(img)"
      ],
      "execution_count": null,
      "outputs": []
    },
    {
      "cell_type": "code",
      "metadata": {
        "colab": {
          "base_uri": "https://localhost:8080/"
        },
        "id": "QwYc25F6VvLq",
        "outputId": "ca8ea0f2-a26a-49f3-f0a3-17f2b1172db2"
      },
      "source": [
        "height, width = img.shape[:2]\n",
        "print(\"画像幅：　\" + str(width))\n",
        "print(\"画像高さ：　\" + str(height))"
      ],
      "execution_count": 5,
      "outputs": [
        {
          "output_type": "stream",
          "text": [
            "画像幅：　1920\n",
            "画像高さ：　1440\n"
          ],
          "name": "stdout"
        }
      ]
    },
    {
      "cell_type": "markdown",
      "metadata": {
        "id": "gqPD5wxkMYLs"
      },
      "source": [
        "### 082映像データの読み込み"
      ]
    },
    {
      "cell_type": "code",
      "metadata": {
        "colab": {
          "base_uri": "https://localhost:8080/"
        },
        "id": "5EzXDoM5MXVC",
        "outputId": "16347a83-74ea-40d6-8993-0991de1de256"
      },
      "source": [
        "# preparation\n",
        "from google.colab.patches import cv2_imshow\n",
        "import cv2\n",
        "\n",
        "# 映像データ取得\n",
        "cap = cv2.VideoCapture(\"/content/drive/MyDrive/Colab Notebooks/colab/mov/mov01.avi\")\n",
        "width = cap.get(cv2.CAP_PROP_FRAME_WIDTH)\n",
        "height = cap.get(cv2.CAP_PROP_FRAME_HEIGHT)\n",
        "count = cap.get(cv2.CAP_PROP_FRAME_COUNT)\n",
        "fps = cap.get(cv2.CAP_PROP_FPS)\n",
        "print(\"画像幅：　\" + str(width))\n",
        "print(\"画像高さ：　\" + str(height))\n",
        "print(\"総フレーム数：　\" + str(count))\n",
        "print(\"FPS: \" + str(fps))\n",
        "\n",
        "# 出力\n",
        "while(cap.isOpened()):\n",
        "    ret, frame = cap.read()\n",
        "    if ret:\n",
        "        cv2_imshow(img)\n",
        "    if cv2.waitKey(1) & 0xFF == ord(\"q\"):\n",
        "        break\n",
        "cap.release()\n",
        "cv2.destroyAllWindows()"
      ],
      "execution_count": 9,
      "outputs": [
        {
          "output_type": "stream",
          "text": [
            "画像幅：　1920.0\n",
            "画像高さ：　1440.0\n",
            "総フレーム数：　401.0\n",
            "FPS: 30.0\n"
          ],
          "name": "stdout"
        }
      ]
    },
    {
      "cell_type": "markdown",
      "metadata": {
        "id": "s1_EEZaIAHr6"
      },
      "source": [
        "### 083映像を画像に分割し保存"
      ]
    },
    {
      "cell_type": "code",
      "metadata": {
        "id": "aXRhmR4xGjbZ"
      },
      "source": [
        "cap = cv2.VideoCapture(\"/content/drive/MyDrive/Colab Notebooks/colab/mov/mov01.avi\")\n",
        "count = cap.get(cv2.CAP_PROP_FRAME_COUNT)\n",
        "num = 0\n",
        "while(cap.isOpened()):\n",
        "    ret, frame = cap.read()\n",
        "    if ret:\n",
        "        # cv2_imshow(frame)\n",
        "        filepath = \"/content/drive/MyDrive/Colab Notebooks/colab/snapshot/snapshot_\" + str(num) + \".jpg\"\n",
        "        cv2.imwrite(filepath, frame)\n",
        "        if cv2.waitKey(1) & 0xFF == ord(\"q\"):\n",
        "            break\n",
        "    num += 1\n",
        "    if num > count:\n",
        "        break\n",
        "cap.release()\n",
        "cv2.destroyAllWindows()"
      ],
      "execution_count": 10,
      "outputs": []
    },
    {
      "cell_type": "markdown",
      "metadata": {
        "id": "qzJMBLRkb6Kv"
      },
      "source": [
        "### 084画像内のどこに人がいるか検出"
      ]
    },
    {
      "cell_type": "code",
      "metadata": {
        "colab": {
          "base_uri": "https://localhost:8080/",
          "height": 34
        },
        "id": "LX0U11cKF6wu",
        "outputId": "d0cd5b74-287c-498f-8d09-729f67c0dd0a"
      },
      "source": [
        "# gpu 確認\n",
        "import tensorflow as tf\n",
        "tf.test.gpu_device_name()"
      ],
      "execution_count": 11,
      "outputs": [
        {
          "output_type": "execute_result",
          "data": {
            "application/vnd.google.colaboratory.intrinsic+json": {
              "type": "string"
            },
            "text/plain": [
              "'/device:GPU:0'"
            ]
          },
          "metadata": {
            "tags": []
          },
          "execution_count": 11
        }
      ]
    },
    {
      "cell_type": "code",
      "metadata": {
        "id": "BkK2wFZoew6R"
      },
      "source": [
        "import cv2\n",
        "\n",
        "# preparation\n",
        "hog = cv2.HOGDescriptor()\n",
        "hog.setSVMDetector(cv2.HOGDescriptor_getDefaultPeopleDetector())\n",
        "hogParams = {'winStride': (8, 8), 'padding': (32, 32), 'scale': 1.05, 'hitThreshold':0, 'finalThreshold':5}\n",
        "\n",
        "# 検出\n",
        "img = cv2.imread(\"/content/drive/MyDrive/Colab Notebooks/colab/img/img01.jpg\", cv2.IMREAD_UNCHANGED)\n",
        "# img = cv2.imread(\"/content/drive/MyDrive/Colab Notebooks/colab/img/img01.jpg\")\n",
        "\n",
        "gray = cv2.cvtColor(img, cv2.COLOR_BGR2GRAY)\n",
        "human, r = hog.detectMultiScale(gray, **hogParams)\n",
        "if (len(human)>0):\n",
        "    for (x, y, w, h) in human:\n",
        "        cv2.rectangle(img, (x, y), (x + w, y + h), (255, 255, 255), 3)\n",
        "cv2_imshow(img)\n",
        "cv2.waitKey(0)"
      ],
      "execution_count": null,
      "outputs": []
    },
    {
      "cell_type": "markdown",
      "metadata": {
        "id": "6DX1nk92h01J"
      },
      "source": [
        "### 085画像内の人の顔を検出"
      ]
    },
    {
      "cell_type": "code",
      "metadata": {
        "id": "4kklsss4Nt4d",
        "colab": {
          "base_uri": "https://localhost:8080/"
        },
        "outputId": "8bdf5768-c64f-4959-c7ce-0eb61f28f2b2"
      },
      "source": [
        "import cv2\n",
        "\n",
        "# preparation\n",
        "cascade_file = \"/content/drive/MyDrive/Colab Notebooks/colab/haarcascade_frontalface_alt.xml\"\n",
        "cascade = cv2.CascadeClassifier(cascade_file)\n",
        "\n",
        "# 検出\n",
        "img = cv2.imread(\"/content/drive/MyDrive/Colab Notebooks/colab/img/img02.jpg\", cv2.IMREAD_UNCHANGED)\n",
        "gray = cv2.cvtColor(img, cv2.COLOR_BGR2GRAY)\n",
        "face_list = cascade.detectMultiScale(gray, minSize=(50, 50))\n",
        "\n",
        "# 検出した顔に印を付ける\n",
        "for (x, y, w, h) in face_list:\n",
        "    color = (0, 0, 255)\n",
        "    pen_w = 3\n",
        "    cv2.rectangle(img, (x, y), (x+w, y+h), color, thickness = pen_w)\n",
        "# GitHubにアップするためにcv2_show(img)はコメント\n",
        "# cv2_imshow(img)\n",
        "cv2.imwrite(\"/content/drive/MyDrive/Colab Notebooks/colab/temp085.jpg\", img)\n",
        "cv2.waitKey(0)"
      ],
      "execution_count": 13,
      "outputs": [
        {
          "output_type": "execute_result",
          "data": {
            "text/plain": [
              "-1"
            ]
          },
          "metadata": {
            "tags": []
          },
          "execution_count": 13
        }
      ]
    },
    {
      "cell_type": "markdown",
      "metadata": {
        "id": "ABN_JhPCKls-"
      },
      "source": [
        "### 086画像内の人がどこに顔を向けているか検出"
      ]
    },
    {
      "cell_type": "code",
      "metadata": {
        "id": "mL9Zg-kuWIX_"
      },
      "source": [
        "import cv2\n",
        "import dlib\n",
        "import math\n",
        "\n",
        "# preparation\n",
        "predictor = dlib.shape_predictor(\"/content/drive/MyDrive/Colab Notebooks/colab/shape_predictor_68_face_landmarks.dat\")\n",
        "detector = dlib.get_frontal_face_detector()\n",
        "\n",
        "# 検出\n",
        "img = cv2.imread(\"/content/drive/MyDrive/Colab Notebooks/colab/img/img02.jpg\")\n",
        "dets = detector(img, 1)\n",
        "\n",
        "for k, d in enumerate(dets):\n",
        "    shape = predictor(img, d)\n",
        "\n",
        "    # 顔領域の表示\n",
        "    color_f = (0, 0, 255)\n",
        "    color_l_out = (255, 0, 0)\n",
        "    color_l_in = (0, 255, 0)\n",
        "    line_w = 3\n",
        "    circle_r = 3\n",
        "    fontType = cv2.FONT_HERSHEY_SIMPLEX\n",
        "    fontSize = 1\n",
        "    cv2.rectangle(img, (d.left(), d.top()), (d.right(), d.bottom()), color_f, line_w)\n",
        "    cv2.putText(img, str(k), (d.left(), d.top()), fontType, fontSize, color_f, line_w)\n",
        "\n",
        "    # 重心を導出する箱を用意\n",
        "    num_of_points_out = 17\n",
        "    num_of_points_in = shape.num_parts - num_of_points_out\n",
        "    gx_out = 0\n",
        "    gy_out = 0\n",
        "    gx_in = 0\n",
        "    gy_in = 0\n",
        "    for shape_point_count in range(shape.num_parts):\n",
        "        shape_point = shape.part(shape_point_count)\n",
        "        # print(\"顔器官No.{} 座標位置： ({}, {})\".format(shape_point_count, shape_point.x, shape_point.y))\n",
        "        # 器官ごとに描画\n",
        "        if shape_point_count<num_of_points_out:\n",
        "            cv2.circle(img, (shape_point.x, shape_point.y), circle_r, color_l_out, line_w)\n",
        "            gx_out = gx_out + shape_point.x/num_of_points_out\n",
        "            gy_out = gy_out + shape_point.y/num_of_points_out\n",
        "        else:\n",
        "            cv2.circle(img, (shape_point.x, shape_point.y), circle_r, color_l_in, line_w)\n",
        "            gx_in = gx_in + shape_point.x/num_of_points_in\n",
        "            gy_in = gy_in + shape_point.y/num_of_points_in\n",
        "    # 重心位置を描画\n",
        "    cv2.circle(img, (int(gx_out), int(gy_out)), circle_r,(0,0,255), line_w)\n",
        "    cv2.circle(img, (int(gx_in), int(gy_in)), circle_r,(0,0,0), line_w)\n",
        "\n",
        "    # 顔の方位を計算\n",
        "    theta = math.asin(2*(gx_in-gx_out)/(d.right()-d.left()))\n",
        "    radian = theta*180/math.pi\n",
        "    print(\"顔方位：{} (角度：{}度)\".format(theta, radian))\n",
        "\n",
        "    # 顔方位を表示\n",
        "    if radian<0:\n",
        "        textPrefix = \"    left \"\n",
        "    else:\n",
        "        textPrefix = \"    right \"\n",
        "    textShow = textPrefix + str(round(abs(radian), 1)) + \"  deg.\"\n",
        "    cv2.putText(img, textShow, (d.left(), d.top()), fontType, fontSize, color_f, line_w)\n",
        "\n",
        "cv2_imshow(img)\n",
        "cv2.waitKey(0)"
      ],
      "execution_count": null,
      "outputs": []
    },
    {
      "cell_type": "markdown",
      "metadata": {
        "id": "R0CNf376j15w"
      },
      "source": [
        "### 087検出したデータを結合しタイムラプスを作成"
      ]
    },
    {
      "cell_type": "code",
      "metadata": {
        "colab": {
          "base_uri": "https://localhost:8080/"
        },
        "id": "gHyDdjVvYu-9",
        "outputId": "d277b2ea-b0be-4407-fe89-47f634536d67"
      },
      "source": [
        "import cv2\n",
        "\n",
        "print(\"タイムラプス生成を開始します\")\n",
        "\n",
        "# 映像取得\n",
        "cap = cv2.VideoCapture(\"/content/drive/MyDrive/Colab Notebooks/colab/mov/mov01.avi\")\n",
        "width = int(cap.get(cv2.CAP_PROP_FRAME_WIDTH))\n",
        "height = int(cap.get(cv2.CAP_PROP_FRAME_HEIGHT))\n",
        "\n",
        "# hog宣言 #\n",
        "hog = cv2.HOGDescriptor()\n",
        "hog.setSVMDetector(cv2.HOGDescriptor_getDefaultPeopleDetector())\n",
        "hogParams = {'winStride': (8, 8), 'padding': (32, 32), 'scale': 1.05, 'hitThreshold':0, 'finalThreshold':5}\n",
        "\n",
        "# タイムプラス作成\n",
        "movie_name = \"/content/drive/MyDrive/Colab Notebooks/colab/timelapse.avi\"\n",
        "fourcc = cv2.VideoWriter_fourcc('X', 'V', 'I', 'D')\n",
        "video = cv2.VideoWriter(movie_name, fourcc, 30, (width,height))\n",
        "\n",
        "num = 0\n",
        "while(cap.isOpened()):\n",
        "    ret, frame = cap.read()\n",
        "    if ret:\n",
        "        if (num%10==0):\n",
        "            gray = cv2.cvtColor(frame, cv2.COLOR_BGR2GRAY)\n",
        "            human, r = hog.detectMultiScale(gray, **hogParams)\n",
        "            if (len(human)>0):\n",
        "                for (x, y, w, h) in human:\n",
        "                    cv2.rectangle(frame, (x, y), (x + w, y + h), (255,255,255), 3)\n",
        "\n",
        "            video.write(frame)\n",
        "    else:\n",
        "        break\n",
        "    num += 1\n",
        "video.release()\n",
        "cap.release()\n",
        "cv2.destroyAllWindows()\n",
        "print(\"タイムラプス生成を終了しました\")"
      ],
      "execution_count": 17,
      "outputs": [
        {
          "output_type": "stream",
          "text": [
            "タイムラプス生成を開始します\n",
            "タイムラプス生成を終了しました\n"
          ],
          "name": "stdout"
        }
      ]
    },
    {
      "cell_type": "markdown",
      "metadata": {
        "id": "dpLd6GE5pp53"
      },
      "source": [
        "### 088全体像をグラフにして可視化する"
      ]
    },
    {
      "cell_type": "code",
      "metadata": {
        "id": "qqMeMiB1t2Iv",
        "colab": {
          "base_uri": "https://localhost:8080/"
        },
        "outputId": "b9319f01-9fd3-4b1d-8b4f-13e60008e83d"
      },
      "source": [
        "import cv2\n",
        "import pandas as pd\n",
        "\n",
        "print(\"分析を開始します\")\n",
        "\n",
        "# 映像取得\n",
        "cap = cv2.VideoCapture(\"/content/drive/MyDrive/Colab Notebooks/colab/mov/mov01.avi\")\n",
        "fps = cap.get(cv2.CAP_PROP_FPS)\n",
        "\n",
        "# hog宣言 #\n",
        "hog = cv2.HOGDescriptor()\n",
        "hog.setSVMDetector(cv2.HOGDescriptor_getDefaultPeopleDetector())\n",
        "hogParams = {'winStride': (8, 8), 'padding': (32, 32), 'scale': 1.05, 'hitThreshold':0, 'finalThreshold':5}\n",
        "\n",
        "num = 0\n",
        "list_df = pd.DataFrame(columns=['time','people'])\n",
        "while(cap.isOpened()):\n",
        "    ret, frame = cap.read()\n",
        "    if ret:\n",
        "        if (num%10==0):\n",
        "            gray = cv2.cvtColor(frame, cv2.COLOR_BGR2GRAY)\n",
        "            human, r = hog.detectMultiScale(gray, **hogParams)\n",
        "            if (len(human)>0):\n",
        "                for (x, y, w, h) in human:\n",
        "                    cv2.rectangle(frame, (x, y), (x + w, y + h), (255,255,255), 3)\n",
        "            tmp_se = pd.Series( [num/fps,len(human) ], index=list_df.columns)\n",
        "            list_df = list_df.append( tmp_se, ignore_index=True)\n",
        "            if cv2.waitKey(1) & 0xFF == ord('q'):\n",
        "                break\n",
        "    else:\n",
        "        break\n",
        "    num += 1\n",
        "cap.release()\n",
        "cv2.destroyAllWindows()\n",
        "print(\"分析を終了しました\")"
      ],
      "execution_count": 18,
      "outputs": [
        {
          "output_type": "stream",
          "text": [
            "分析を開始します\n",
            "分析を終了しました\n"
          ],
          "name": "stdout"
        }
      ]
    },
    {
      "cell_type": "code",
      "metadata": {
        "id": "-tT5Xk4SxCy3",
        "colab": {
          "base_uri": "https://localhost:8080/",
          "height": 279
        },
        "outputId": "98a846ce-421d-43c0-a1e8-d4836c04a03f"
      },
      "source": [
        "import matplotlib.pyplot as plt\n",
        "plt.plot(list_df[\"time\"], list_df[\"people\"])\n",
        "plt.xlabel(\"time(.sec\")\n",
        "plt.ylabel(\"population\")\n",
        "plt.ylim(0,15)\n",
        "plt.show()"
      ],
      "execution_count": 19,
      "outputs": [
        {
          "output_type": "display_data",
          "data": {
            "image/png": "[encoded data removed]",
            "text/plain": [
              "<Figure size 432x288 with 1 Axes>"
            ]
          },
          "metadata": {
            "tags": [],
            "needs_background": "light"
          }
        }
      ]
    },
    {
      "cell_type": "markdown",
      "metadata": {
        "id": "xZbSYQ59qw7t"
      },
      "source": [
        "### 089人通りの変化をグラフ化する"
      ]
    },
    {
      "cell_type": "code",
      "metadata": {
        "colab": {
          "base_uri": "https://localhost:8080/"
        },
        "id": "Df55t9NRrGuD",
        "outputId": "4c5d290d-bfb0-42c6-d125-2ab4bcc25bbe"
      },
      "source": [
        "import cv2\n",
        "import pandas as pd\n",
        "\n",
        "print(\"分析を開始します\")\n",
        "\n",
        "# 映像取得\n",
        "cap = cv2.VideoCapture(\"/content/drive/MyDrive/Colab Notebooks/colab/mov/mov02.avi\")\n",
        "fps = cap.get(cv2.CAP_PROP_FPS)\n",
        "\n",
        "# hog宣言 #\n",
        "hog = cv2.HOGDescriptor()\n",
        "hog.setSVMDetector(cv2.HOGDescriptor_getDefaultPeopleDetector())\n",
        "hogParams = {'winStride': (8, 8), 'padding': (32, 32), 'scale': 1.05, 'hitThreshold':0, 'finalThreshold':5}\n",
        "\n",
        "num = 0\n",
        "list_df2 = pd.DataFrame( columns=['time','people'] )\n",
        "while(cap.isOpened()):\n",
        "    ret, frame = cap.read()\n",
        "    if ret:\n",
        "        if (num%10==0):\n",
        "            gray = cv2.cvtColor(frame, cv2.COLOR_BGR2GRAY)\n",
        "            human, r = hog.detectMultiScale(gray, **hogParams)\n",
        "            if (len(human)>0):\n",
        "                for (x, y, w, h) in human:\n",
        "                    cv2.rectangle(frame, (x, y), (x + w, y + h), (255,255,255), 3)\n",
        "            tmp_se = pd.Series( [num/fps,len(human) ], index=list_df2.columns )\n",
        "            list_df2 = list_df2.append( tmp_se, ignore_index=True )\n",
        "            if cv2.waitKey(1) & 0xFF == ord('q'):\n",
        "                break\n",
        "    else:\n",
        "        break\n",
        "    num += 1\n",
        "cap.release()\n",
        "cv2.destroyAllWindows()\n",
        "print(\"分析を終了しました\")"
      ],
      "execution_count": 20,
      "outputs": [
        {
          "output_type": "stream",
          "text": [
            "分析を開始します\n",
            "分析を終了しました\n"
          ],
          "name": "stdout"
        }
      ]
    },
    {
      "cell_type": "code",
      "metadata": {
        "colab": {
          "base_uri": "https://localhost:8080/",
          "height": 279
        },
        "id": "x_9wwRk2sBb2",
        "outputId": "24c35772-69bc-4aa6-a057-6fb398f183ff"
      },
      "source": [
        "import matplotlib.pyplot as plt\n",
        "plt.plot(list_df2[\"time\"], list_df2[\"people\"])\n",
        "plt.xlabel(\"time(.sec\")\n",
        "plt.ylabel(\"population\")\n",
        "plt.ylim(0,15)\n",
        "plt.show()"
      ],
      "execution_count": 21,
      "outputs": [
        {
          "output_type": "display_data",
          "data": {
            "image/png": "[encoded data removed]",
            "text/plain": [
              "<Figure size 432x288 with 1 Axes>"
            ]
          },
          "metadata": {
            "tags": [],
            "needs_background": "light"
          }
        }
      ]
    },
    {
      "cell_type": "markdown",
      "metadata": {
        "id": "ZHsjh0Iiy1Md"
      },
      "source": [
        "### 090移動平均を計算しノイズの影響を除去"
      ]
    },
    {
      "cell_type": "code",
      "metadata": {
        "id": "xrwhrbup0V0f"
      },
      "source": [
        "import numpy as np\n",
        "def moving_average(x, y):\n",
        "    y_conv = np.convolve(y, np.ones(5)/float(5), mode='valid')\n",
        "    x_dat = np.linspace(np.min(x), np.max(x), np.size(y_conv))\n",
        "    return x_dat, y_conv"
      ],
      "execution_count": 22,
      "outputs": []
    },
    {
      "cell_type": "code",
      "metadata": {
        "id": "vHQKYszM1xU6",
        "colab": {
          "base_uri": "https://localhost:8080/",
          "height": 279
        },
        "outputId": "0cded969-aa8c-474d-89d0-3bd39bbf1694"
      },
      "source": [
        "plt.plot(list_df[\"time\"], list_df[\"people\"], label=\"raw\")\n",
        "ma_x, ma_y = moving_average(list_df[\"time\"], list_df[\"people\"])\n",
        "plt.plot(ma_x,ma_y, label=\"average\")\n",
        "plt.xlabel('time(sec.')\n",
        "plt.ylabel('popylation')\n",
        "plt.ylim(0,15)\n",
        "plt.legend()\n",
        "plt.show()"
      ],
      "execution_count": 23,
      "outputs": [
        {
          "output_type": "display_data",
          "data": {
            "image/png": "[encoded data removed]",
            "text/plain": [
              "<Figure size 432x288 with 1 Axes>"
            ]
          },
          "metadata": {
            "tags": [],
            "needs_background": "light"
          }
        }
      ]
    },
    {
      "cell_type": "code",
      "metadata": {
        "colab": {
          "base_uri": "https://localhost:8080/",
          "height": 279
        },
        "id": "TJVnYDOc6Hs4",
        "outputId": "ed270bb7-5f30-429b-c4be-6e16223fa2e6"
      },
      "source": [
        "plt.plot(list_df2[\"time\"], list_df2[\"people\"], label=\"raw\")\n",
        "ma_x2, ma_y2 = moving_average(list_df2[\"time\"], list_df2[\"people\"])\n",
        "plt.plot(ma_x2,ma_y2, label=\"average\")\n",
        "plt.xlabel('time(sec.')\n",
        "plt.ylabel('popylation')\n",
        "plt.ylim(0,15)\n",
        "plt.legend()\n",
        "plt.show()"
      ],
      "execution_count": 24,
      "outputs": [
        {
          "output_type": "display_data",
          "data": {
            "image/png": "[encoded data removed]",
            "text/plain": [
              "<Figure size 432x288 with 1 Axes>"
            ]
          },
          "metadata": {
            "tags": [],
            "needs_background": "light"
          }
        }
      ]
    },
    {
      "cell_type": "code",
      "metadata": {
        "colab": {
          "base_uri": "https://localhost:8080/",
          "height": 279
        },
        "id": "1VbQJmRS64LS",
        "outputId": "4b28e300-ac56-4560-9b97-16c0cc324c8e"
      },
      "source": [
        "plt.plot(ma_x,ma_y, label=\"1st\")\n",
        "plt.plot(ma_x2,ma_y2, label=\"2st\")\n",
        "plt.xlabel('time(sec.')\n",
        "plt.ylabel('popylation')\n",
        "plt.ylim(0,15)\n",
        "plt.legend()\n",
        "plt.show()"
      ],
      "execution_count": 25,
      "outputs": [
        {
          "output_type": "display_data",
          "data": {
            "image/png": "[encoded data removed]",
            "text/plain": [
              "<Figure size 432x288 with 1 Axes>"
            ]
          },
          "metadata": {
            "tags": [],
            "needs_background": "light"
          }
        }
      ]
    }
  ]
}